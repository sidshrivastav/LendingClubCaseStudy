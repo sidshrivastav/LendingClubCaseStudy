{
 "cells": [],
 "metadata": {
  "interpreter": {
   "hash": "fea6becea45a10ef14dcefed550f98bd57c1d86a7e7df96e9ec8e3be772e6e0d"
  },
  "kernelspec": {
   "display_name": "Python 3.8.10 ('venv': venv)",
   "language": "python",
   "name": "python3"
  },
  "language_info": {
   "codemirror_mode": {
    "name": "ipython",
    "version": 3
   },
   "file_extension": ".py",
   "mimetype": "text/x-python",
   "name": "python",
   "nbconvert_exporter": "python",
   "pygments_lexer": "ipython3",
   "version": "3.8.10"
  },
  "orig_nbformat": 4
 },
 "nbformat": 4,
 "nbformat_minor": 2
}
