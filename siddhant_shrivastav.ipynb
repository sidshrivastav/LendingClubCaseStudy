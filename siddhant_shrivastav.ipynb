{
 "cells": [
  {
   "cell_type": "markdown",
   "metadata": {},
   "source": [
    "### Import Libraries"
   ]
  },
  {
   "cell_type": "code",
   "execution_count": 152,
   "metadata": {},
   "outputs": [],
   "source": [
    "# Import required libraries\n",
    "import numpy as np\n",
    "import pandas as pd\n",
    "import matplotlib.pyplot as plt\n",
    "import seaborn as sns\n",
    "from datetime import datetime"
   ]
  },
  {
   "cell_type": "markdown",
   "metadata": {},
   "source": [
    "### Load Dataset"
   ]
  },
  {
   "cell_type": "code",
   "execution_count": 153,
   "metadata": {},
   "outputs": [
    {
     "name": "stderr",
     "output_type": "stream",
     "text": [
      "/tmp/ipykernel_18416/1250389818.py:2: DtypeWarning: Columns (47) have mixed types. Specify dtype option on import or set low_memory=False.\n",
      "  df = pd.read_csv(\"data/loan.csv\")\n"
     ]
    }
   ],
   "source": [
    "# Load csv\n",
    "df = pd.read_csv(\"data/loan.csv\")"
   ]
  },
  {
   "cell_type": "code",
   "execution_count": 154,
   "metadata": {},
   "outputs": [
    {
     "data": {
      "text/plain": [
       "(39717, 111)"
      ]
     },
     "execution_count": 154,
     "metadata": {},
     "output_type": "execute_result"
    }
   ],
   "source": [
    "df.shape"
   ]
  },
  {
   "cell_type": "markdown",
   "metadata": {},
   "source": [
    "### Data Understanding and Cleaning"
   ]
  },
  {
   "cell_type": "markdown",
   "metadata": {},
   "source": [
    "##### Fix rows and columns"
   ]
  },
  {
   "cell_type": "markdown",
   "metadata": {},
   "source": [
    "We found out that there are many columns where no data is present in any row, so we decide to remove those columns, e.g: num_tl_90g_dpd_24m, total_bal_ex_mort, etc "
   ]
  },
  {
   "cell_type": "code",
   "execution_count": 155,
   "metadata": {},
   "outputs": [
    {
     "data": {
      "text/plain": [
       "Index(['mths_since_last_major_derog', 'annual_inc_joint', 'dti_joint',\n",
       "       'verification_status_joint', 'tot_coll_amt', 'tot_cur_bal',\n",
       "       'open_acc_6m', 'open_il_6m', 'open_il_12m', 'open_il_24m',\n",
       "       'mths_since_rcnt_il', 'total_bal_il', 'il_util', 'open_rv_12m',\n",
       "       'open_rv_24m', 'max_bal_bc', 'all_util', 'total_rev_hi_lim', 'inq_fi',\n",
       "       'total_cu_tl', 'inq_last_12m', 'acc_open_past_24mths', 'avg_cur_bal',\n",
       "       'bc_open_to_buy', 'bc_util', 'mo_sin_old_il_acct',\n",
       "       'mo_sin_old_rev_tl_op', 'mo_sin_rcnt_rev_tl_op', 'mo_sin_rcnt_tl',\n",
       "       'mort_acc', 'mths_since_recent_bc', 'mths_since_recent_bc_dlq',\n",
       "       'mths_since_recent_inq', 'mths_since_recent_revol_delinq',\n",
       "       'num_accts_ever_120_pd', 'num_actv_bc_tl', 'num_actv_rev_tl',\n",
       "       'num_bc_sats', 'num_bc_tl', 'num_il_tl', 'num_op_rev_tl',\n",
       "       'num_rev_accts', 'num_rev_tl_bal_gt_0', 'num_sats', 'num_tl_120dpd_2m',\n",
       "       'num_tl_30dpd', 'num_tl_90g_dpd_24m', 'num_tl_op_past_12m',\n",
       "       'pct_tl_nvr_dlq', 'percent_bc_gt_75', 'tot_hi_cred_lim',\n",
       "       'total_bal_ex_mort', 'total_bc_limit', 'total_il_high_credit_limit'],\n",
       "      dtype='object')"
      ]
     },
     "execution_count": 155,
     "metadata": {},
     "output_type": "execute_result"
    }
   ],
   "source": [
    "# List of all columns where values are filled with only None\n",
    "df.columns[df.isnull().sum()==df.shape[0]]"
   ]
  },
  {
   "cell_type": "code",
   "execution_count": 156,
   "metadata": {},
   "outputs": [],
   "source": [
    "# Removing where all are filled with None\n",
    "df.dropna(inplace=True, axis=1, how=\"all\")"
   ]
  },
  {
   "cell_type": "markdown",
   "metadata": {},
   "source": [
    "After initially dropping columns which are filled with None value, we also saw some column where are rows contain same value. e.g: pymnt_plan contains only n, initial_list_status contains only f, etc. So we decided to remove those columns as well."
   ]
  },
  {
   "cell_type": "code",
   "execution_count": 157,
   "metadata": {},
   "outputs": [
    {
     "data": {
      "text/plain": [
       "Index(['pymnt_plan', 'initial_list_status', 'collections_12_mths_ex_med',\n",
       "       'policy_code', 'application_type', 'acc_now_delinq',\n",
       "       'chargeoff_within_12_mths', 'delinq_amnt', 'tax_liens'],\n",
       "      dtype='object')"
      ]
     },
     "execution_count": 157,
     "metadata": {},
     "output_type": "execute_result"
    }
   ],
   "source": [
    "# List of all columns where all rows contain same value\n",
    "df.columns[df.nunique()==1]"
   ]
  },
  {
   "cell_type": "code",
   "execution_count": 158,
   "metadata": {},
   "outputs": [],
   "source": [
    "# Removing where nunique is 1\n",
    "df = df[[i for i in df if df[i].nunique()>1]]"
   ]
  },
  {
   "cell_type": "markdown",
   "metadata": {},
   "source": [
    "Understanding remaining columns, so we decided to bifurcate each columns based opn dtype"
   ]
  },
  {
   "cell_type": "code",
   "execution_count": 159,
   "metadata": {},
   "outputs": [],
   "source": [
    "object_columns = df.select_dtypes(include=['object'])\n",
    "numerical_columns = df.select_dtypes(exclude=['object'])\n"
   ]
  },
  {
   "cell_type": "code",
   "execution_count": 160,
   "metadata": {},
   "outputs": [
    {
     "name": "stdout",
     "output_type": "stream",
     "text": [
      "columns: term\n",
      " 36 months    29096\n",
      " 60 months    10621\n",
      "Name: term, dtype: int64\n",
      "\n",
      "\n",
      "\n",
      "\n",
      "columns: int_rate\n",
      "10.99%    956\n",
      "13.49%    826\n",
      "11.49%    825\n",
      "7.51%     787\n",
      "7.88%     725\n",
      "         ... \n",
      "18.36%      1\n",
      "16.96%      1\n",
      "16.15%      1\n",
      "16.01%      1\n",
      "17.44%      1\n",
      "Name: int_rate, Length: 371, dtype: int64\n",
      "\n",
      "\n",
      "\n",
      "\n",
      "columns: grade\n",
      "B    12020\n",
      "A    10085\n",
      "C     8098\n",
      "D     5307\n",
      "E     2842\n",
      "F     1049\n",
      "G      316\n",
      "Name: grade, dtype: int64\n",
      "\n",
      "\n",
      "\n",
      "\n",
      "columns: sub_grade\n",
      "B3    2917\n",
      "A4    2886\n",
      "A5    2742\n",
      "B5    2704\n",
      "B4    2512\n",
      "C1    2136\n",
      "B2    2057\n",
      "C2    2011\n",
      "B1    1830\n",
      "A3    1810\n",
      "C3    1529\n",
      "A2    1508\n",
      "D2    1348\n",
      "C4    1236\n",
      "C5    1186\n",
      "D3    1173\n",
      "A1    1139\n",
      "D4     981\n",
      "D1     931\n",
      "D5     874\n",
      "E1     763\n",
      "E2     656\n",
      "E3     553\n",
      "E4     454\n",
      "E5     416\n",
      "F1     329\n",
      "F2     249\n",
      "F3     185\n",
      "F4     168\n",
      "F5     118\n",
      "G1     104\n",
      "G2      78\n",
      "G4      56\n",
      "G3      48\n",
      "G5      30\n",
      "Name: sub_grade, dtype: int64\n",
      "\n",
      "\n",
      "\n",
      "\n",
      "columns: emp_title\n",
      "US Army                              134\n",
      "Bank of America                      109\n",
      "IBM                                   66\n",
      "AT&T                                  59\n",
      "Kaiser Permanente                     56\n",
      "                                    ... \n",
      "Community College of Philadelphia      1\n",
      "AMEC                                   1\n",
      "lee county sheriff                     1\n",
      "Bacon County Board of Education        1\n",
      "Evergreen Center                       1\n",
      "Name: emp_title, Length: 28820, dtype: int64\n",
      "\n",
      "\n",
      "\n",
      "\n",
      "columns: emp_length\n",
      "10+ years    8879\n",
      "< 1 year     4583\n",
      "2 years      4388\n",
      "3 years      4095\n",
      "4 years      3436\n",
      "5 years      3282\n",
      "1 year       3240\n",
      "6 years      2229\n",
      "7 years      1773\n",
      "8 years      1479\n",
      "9 years      1258\n",
      "Name: emp_length, dtype: int64\n",
      "\n",
      "\n",
      "\n",
      "\n",
      "columns: home_ownership\n",
      "RENT        18899\n",
      "MORTGAGE    17659\n",
      "OWN          3058\n",
      "OTHER          98\n",
      "NONE            3\n",
      "Name: home_ownership, dtype: int64\n",
      "\n",
      "\n",
      "\n",
      "\n",
      "columns: verification_status\n",
      "Not Verified       16921\n",
      "Verified           12809\n",
      "Source Verified     9987\n",
      "Name: verification_status, dtype: int64\n",
      "\n",
      "\n",
      "\n",
      "\n",
      "columns: issue_d\n",
      "Dec-11    2260\n",
      "Nov-11    2223\n",
      "Oct-11    2114\n",
      "Sep-11    2063\n",
      "Aug-11    1928\n",
      "Jul-11    1870\n",
      "Jun-11    1827\n",
      "May-11    1689\n",
      "Apr-11    1562\n",
      "Mar-11    1443\n",
      "Jan-11    1380\n",
      "Feb-11    1297\n",
      "Dec-10    1267\n",
      "Oct-10    1132\n",
      "Nov-10    1121\n",
      "Jul-10    1119\n",
      "Sep-10    1086\n",
      "Aug-10    1078\n",
      "Jun-10    1029\n",
      "May-10     920\n",
      "Apr-10     827\n",
      "Mar-10     737\n",
      "Feb-10     627\n",
      "Nov-09     602\n",
      "Dec-09     598\n",
      "Jan-10     589\n",
      "Oct-09     545\n",
      "Sep-09     449\n",
      "Aug-09     408\n",
      "Jul-09     374\n",
      "Jun-09     356\n",
      "May-09     319\n",
      "Apr-09     290\n",
      "Mar-09     276\n",
      "Feb-09     260\n",
      "Jan-09     239\n",
      "Mar-08     236\n",
      "Dec-08     223\n",
      "Nov-08     184\n",
      "Feb-08     174\n",
      "Jan-08     171\n",
      "Apr-08     155\n",
      "Oct-08      96\n",
      "Dec-07      85\n",
      "Jul-08      83\n",
      "May-08      71\n",
      "Aug-08      71\n",
      "Jun-08      66\n",
      "Oct-07      47\n",
      "Nov-07      37\n",
      "Aug-07      33\n",
      "Sep-08      32\n",
      "Jul-07      30\n",
      "Sep-07      18\n",
      "Jun-07       1\n",
      "Name: issue_d, dtype: int64\n",
      "\n",
      "\n",
      "\n",
      "\n",
      "columns: loan_status\n",
      "Fully Paid     32950\n",
      "Charged Off     5627\n",
      "Current         1140\n",
      "Name: loan_status, dtype: int64\n",
      "\n",
      "\n",
      "\n",
      "\n",
      "columns: url\n",
      "https://lendingclub.com/browse/loanDetail.action?loan_id=1077501    1\n",
      "https://lendingclub.com/browse/loanDetail.action?loan_id=568534     1\n",
      "https://lendingclub.com/browse/loanDetail.action?loan_id=568659     1\n",
      "https://lendingclub.com/browse/loanDetail.action?loan_id=567165     1\n",
      "https://lendingclub.com/browse/loanDetail.action?loan_id=568531     1\n",
      "                                                                   ..\n",
      "https://lendingclub.com/browse/loanDetail.action?loan_id=785667     1\n",
      "https://lendingclub.com/browse/loanDetail.action?loan_id=785659     1\n",
      "https://lendingclub.com/browse/loanDetail.action?loan_id=785630     1\n",
      "https://lendingclub.com/browse/loanDetail.action?loan_id=785626     1\n",
      "https://lendingclub.com/browse/loanDetail.action?loan_id=87023      1\n",
      "Name: url, Length: 39717, dtype: int64\n",
      "\n",
      "\n",
      "\n",
      "\n",
      "columns: desc\n",
      "                                                                                                                                                                                                                                                                                                                                                                                                                                                                                                                                                                                                                                                                              210\n",
      "Debt Consolidation                                                                                                                                                                                                                                                                                                                                                                                                                                                                                                                                                                                                                                                              8\n",
      "Camping Membership                                                                                                                                                                                                                                                                                                                                                                                                                                                                                                                                                                                                                                                              6\n",
      "personal loan                                                                                                                                                                                                                                                                                                                                                                                                                                                                                                                                                                                                                                                                   3\n",
      "credit card consolidation                                                                                                                                                                                                                                                                                                                                                                                                                                                                                                                                                                                                                                                       3\n",
      "                                                                                                                                                                                                                                                                                                                                                                                                                                                                                                                                                                                                                                                                             ... \n",
      "  Borrower added on 05/13/11 > I have a very stable income and have &quot;NEVER&quot; been delinquent on any accounts. I am interested in consolidating my credit card accounts along with a personal loan for the benefit of paying one payment a month versus multiple. Thank you.<br/>                                                                                                                                                                                                                                                                                                                                                                                       1\n",
      "  Borrower added on 05/13/11 > This loan is to partially finance a car. The payments will be very manageable for me.<br/>                                                                                                                                                                                                                                                                                                                                                                                                                                                                                                                                                       1\n",
      "  Borrower added on 05/13/11 > I am consolidating my bills to make it cheaper on bills. I am up for a promotion at my job and have been here three years already. I also have a fiance that has a very reliable job who also helps with finances. My requirement is that all bills are paid on time if not early. This is to keep good standings with all businesses and keep a awesome credit score.<br/> Borrower added on 05/16/11 > I am asking for this loan to pay off bills with higher interest rates and have a lower payment every month.<br/>                                                                                                                        1\n",
      "  Borrower added on 05/13/11 > Debt Consolidation<br/> Borrower added on 05/13/11 > I plan to use this money to consolidate bills with high monthly payments and improve cash flow.<br/> Borrower added on 05/13/11 > I have good credit and I have a very stable, solid and professional job that I have held for a long time - over 20 years.  I have a Bachelor's degree and I'm currently working on a masters.<br/> Borrower added on 05/13/11 > My mortgage and utilities run approx less than 2k per month including taxes.  I have sufficient income to pay off this loan. I simply want to take my open accounts and consolidate them into one easy payment.<br/>      1\n",
      "I plan to consolidate over $7,000 of debt: a combination of credit cards and student loans.                                                                                                                                                                                                                                                                                                                                                                                                                                                                                                                                                                                     1\n",
      "Name: desc, Length: 26527, dtype: int64\n",
      "\n",
      "\n",
      "\n",
      "\n",
      "columns: purpose\n",
      "debt_consolidation    18641\n",
      "credit_card            5130\n",
      "other                  3993\n",
      "home_improvement       2976\n",
      "major_purchase         2187\n",
      "small_business         1828\n",
      "car                    1549\n",
      "wedding                 947\n",
      "medical                 693\n",
      "moving                  583\n",
      "vacation                381\n",
      "house                   381\n",
      "educational             325\n",
      "renewable_energy        103\n",
      "Name: purpose, dtype: int64\n",
      "\n",
      "\n",
      "\n",
      "\n",
      "columns: title\n",
      "Debt Consolidation                  2184\n",
      "Debt Consolidation Loan             1729\n",
      "Personal Loan                        659\n",
      "Consolidation                        517\n",
      "debt consolidation                   505\n",
      "                                    ... \n",
      "your rate is better than my rate       1\n",
      "Concession Trailer                     1\n",
      "gregs                                  1\n",
      "EZover                                 1\n",
      "JAL Loan                               1\n",
      "Name: title, Length: 19615, dtype: int64\n",
      "\n",
      "\n",
      "\n",
      "\n",
      "columns: zip_code\n",
      "100xx    597\n",
      "945xx    545\n",
      "112xx    516\n",
      "606xx    503\n",
      "070xx    473\n",
      "        ... \n",
      "381xx      1\n",
      "378xx      1\n",
      "739xx      1\n",
      "396xx      1\n",
      "469xx      1\n",
      "Name: zip_code, Length: 823, dtype: int64\n",
      "\n",
      "\n",
      "\n",
      "\n",
      "columns: addr_state\n",
      "CA    7099\n",
      "NY    3812\n",
      "FL    2866\n",
      "TX    2727\n",
      "NJ    1850\n",
      "IL    1525\n",
      "PA    1517\n",
      "VA    1407\n",
      "GA    1398\n",
      "MA    1340\n",
      "OH    1223\n",
      "MD    1049\n",
      "AZ     879\n",
      "WA     840\n",
      "CO     792\n",
      "NC     788\n",
      "CT     751\n",
      "MI     720\n",
      "MO     686\n",
      "MN     615\n",
      "NV     497\n",
      "SC     472\n",
      "WI     460\n",
      "AL     452\n",
      "OR     451\n",
      "LA     436\n",
      "KY     325\n",
      "OK     299\n",
      "KS     271\n",
      "UT     258\n",
      "AR     245\n",
      "DC     214\n",
      "RI     198\n",
      "NM     189\n",
      "WV     177\n",
      "HI     174\n",
      "NH     171\n",
      "DE     114\n",
      "MT      85\n",
      "WY      83\n",
      "AK      80\n",
      "SD      64\n",
      "VT      54\n",
      "MS      19\n",
      "TN      17\n",
      "IN       9\n",
      "ID       6\n",
      "IA       5\n",
      "NE       5\n",
      "ME       3\n",
      "Name: addr_state, dtype: int64\n",
      "\n",
      "\n",
      "\n",
      "\n",
      "columns: earliest_cr_line\n",
      "Nov-98    370\n",
      "Oct-99    366\n",
      "Dec-98    348\n",
      "Oct-00    346\n",
      "Dec-97    329\n",
      "         ... \n",
      "Feb-66      1\n",
      "Dec-61      1\n",
      "Oct-54      1\n",
      "Jun-72      1\n",
      "Oct-74      1\n",
      "Name: earliest_cr_line, Length: 526, dtype: int64\n",
      "\n",
      "\n",
      "\n",
      "\n",
      "columns: revol_util\n",
      "0%        977\n",
      "0.20%      63\n",
      "63%        62\n",
      "40.70%     58\n",
      "66.70%     58\n",
      "         ... \n",
      "25.74%      1\n",
      "47.36%      1\n",
      "24.65%      1\n",
      "10.61%      1\n",
      "7.28%       1\n",
      "Name: revol_util, Length: 1089, dtype: int64\n",
      "\n",
      "\n",
      "\n",
      "\n",
      "columns: last_pymnt_d\n",
      "May-16    1256\n",
      "Mar-13    1026\n",
      "Dec-14     945\n",
      "May-13     907\n",
      "Feb-13     869\n",
      "          ... \n",
      "Jun-08      10\n",
      "Nov-08      10\n",
      "Mar-08       5\n",
      "Jan-08       4\n",
      "Feb-08       1\n",
      "Name: last_pymnt_d, Length: 101, dtype: int64\n",
      "\n",
      "\n",
      "\n",
      "\n",
      "columns: next_pymnt_d\n",
      "Jun-16    1125\n",
      "Jul-16      15\n",
      "Name: next_pymnt_d, dtype: int64\n",
      "\n",
      "\n",
      "\n",
      "\n",
      "columns: last_credit_pull_d\n",
      "May-16    10308\n",
      "Apr-16     2547\n",
      "Mar-16     1123\n",
      "Feb-13      843\n",
      "Feb-16      736\n",
      "          ...  \n",
      "May-08        1\n",
      "Jun-08        1\n",
      "Jul-08        1\n",
      "May-07        1\n",
      "Jul-07        1\n",
      "Name: last_credit_pull_d, Length: 106, dtype: int64\n",
      "\n",
      "\n",
      "\n",
      "\n"
     ]
    }
   ],
   "source": [
    "for i in object_columns.columns:\n",
    "    print(\"columns: {}\".format(i))\n",
    "    print(df[i].value_counts())\n",
    "    print(\"\\n\")\n",
    "    print(\"\\n\")"
   ]
  },
  {
   "cell_type": "code",
   "execution_count": 161,
   "metadata": {},
   "outputs": [
    {
     "name": "stdout",
     "output_type": "stream",
     "text": [
      "columns: id\n",
      "1077501    1\n",
      "568534     1\n",
      "568659     1\n",
      "567165     1\n",
      "568531     1\n",
      "          ..\n",
      "785667     1\n",
      "785659     1\n",
      "785630     1\n",
      "785626     1\n",
      "87023      1\n",
      "Name: id, Length: 39717, dtype: int64\n",
      "\n",
      "\n",
      "\n",
      "\n",
      "columns: member_id\n",
      "1296599    1\n",
      "731393     1\n",
      "731544     1\n",
      "729629     1\n",
      "731390     1\n",
      "          ..\n",
      "989001     1\n",
      "988993     1\n",
      "988959     1\n",
      "988954     1\n",
      "86999      1\n",
      "Name: member_id, Length: 39717, dtype: int64\n",
      "\n",
      "\n",
      "\n",
      "\n",
      "columns: loan_amnt\n",
      "10000    2833\n",
      "12000    2334\n",
      "5000     2051\n",
      "6000     1908\n",
      "15000    1895\n",
      "         ... \n",
      "22875       1\n",
      "8175        1\n",
      "19475       1\n",
      "21225       1\n",
      "22550       1\n",
      "Name: loan_amnt, Length: 885, dtype: int64\n",
      "\n",
      "\n",
      "\n",
      "\n",
      "columns: funded_amnt\n",
      "10000    2741\n",
      "12000    2244\n",
      "5000     2040\n",
      "6000     1898\n",
      "15000    1784\n",
      "         ... \n",
      "26250       1\n",
      "24725       1\n",
      "31750       1\n",
      "22625       1\n",
      "22350       1\n",
      "Name: funded_amnt, Length: 1041, dtype: int64\n",
      "\n",
      "\n",
      "\n",
      "\n",
      "columns: funded_amnt_inv\n",
      "5000.000000     1309\n",
      "10000.000000    1275\n",
      "6000.000000     1200\n",
      "12000.000000    1069\n",
      "8000.000000      900\n",
      "                ... \n",
      "4944.213109        1\n",
      "18400.281660       1\n",
      "14659.820000       1\n",
      "6294.151315        1\n",
      "11808.924370       1\n",
      "Name: funded_amnt_inv, Length: 8205, dtype: int64\n",
      "\n",
      "\n",
      "\n",
      "\n",
      "columns: installment\n",
      "311.11     68\n",
      "180.96     59\n",
      "311.02     54\n",
      "150.80     48\n",
      "368.45     46\n",
      "           ..\n",
      "1224.46     1\n",
      "63.44       1\n",
      "157.67      1\n",
      "492.34      1\n",
      "255.43      1\n",
      "Name: installment, Length: 15383, dtype: int64\n",
      "\n",
      "\n",
      "\n",
      "\n",
      "columns: annual_inc\n",
      "60000.0    1505\n",
      "50000.0    1057\n",
      "40000.0     876\n",
      "45000.0     830\n",
      "30000.0     825\n",
      "           ... \n",
      "56820.0       1\n",
      "45314.0       1\n",
      "53913.0       1\n",
      "62880.0       1\n",
      "27376.0       1\n",
      "Name: annual_inc, Length: 5318, dtype: int64\n",
      "\n",
      "\n",
      "\n",
      "\n",
      "columns: dti\n",
      "0.00     183\n",
      "12.00     51\n",
      "18.00     45\n",
      "19.20     40\n",
      "13.20     39\n",
      "        ... \n",
      "29.13      1\n",
      "25.31      1\n",
      "29.76      1\n",
      "28.42      1\n",
      "25.43      1\n",
      "Name: dti, Length: 2868, dtype: int64\n",
      "\n",
      "\n",
      "\n",
      "\n",
      "columns: delinq_2yrs\n",
      "0     35405\n",
      "1      3303\n",
      "2       687\n",
      "3       220\n",
      "4        62\n",
      "5        22\n",
      "6        10\n",
      "7         4\n",
      "8         2\n",
      "9         1\n",
      "11        1\n",
      "Name: delinq_2yrs, dtype: int64\n",
      "\n",
      "\n",
      "\n",
      "\n",
      "columns: inq_last_6mths\n",
      "0    19300\n",
      "1    10971\n",
      "2     5812\n",
      "3     3048\n",
      "4      326\n",
      "5      146\n",
      "6       64\n",
      "7       35\n",
      "8       15\n",
      "Name: inq_last_6mths, dtype: int64\n",
      "\n",
      "\n",
      "\n",
      "\n",
      "columns: mths_since_last_delinq\n",
      "0.0      443\n",
      "15.0     252\n",
      "30.0     247\n",
      "23.0     247\n",
      "24.0     241\n",
      "        ... \n",
      "89.0       1\n",
      "107.0      1\n",
      "85.0       1\n",
      "97.0       1\n",
      "95.0       1\n",
      "Name: mths_since_last_delinq, Length: 95, dtype: int64\n",
      "\n",
      "\n",
      "\n",
      "\n",
      "columns: mths_since_last_record\n",
      "0.0      670\n",
      "104.0     61\n",
      "89.0      60\n",
      "113.0     59\n",
      "111.0     57\n",
      "        ... \n",
      "19.0       1\n",
      "20.0       1\n",
      "120.0      1\n",
      "129.0      1\n",
      "5.0        1\n",
      "Name: mths_since_last_record, Length: 111, dtype: int64\n",
      "\n",
      "\n",
      "\n",
      "\n",
      "columns: open_acc\n",
      "7     4018\n",
      "6     3946\n",
      "8     3936\n",
      "9     3718\n",
      "10    3223\n",
      "5     3183\n",
      "11    2746\n",
      "4     2343\n",
      "12    2273\n",
      "13    1911\n",
      "3     1493\n",
      "14    1487\n",
      "15    1177\n",
      "16     940\n",
      "17     741\n",
      "2      605\n",
      "18     533\n",
      "19     396\n",
      "20     289\n",
      "21     244\n",
      "22     143\n",
      "23      97\n",
      "24      81\n",
      "25      55\n",
      "26      34\n",
      "28      25\n",
      "27      22\n",
      "30      15\n",
      "29      13\n",
      "31       7\n",
      "34       5\n",
      "32       4\n",
      "35       4\n",
      "33       3\n",
      "36       2\n",
      "39       1\n",
      "38       1\n",
      "44       1\n",
      "41       1\n",
      "42       1\n",
      "Name: open_acc, dtype: int64\n",
      "\n",
      "\n",
      "\n",
      "\n",
      "columns: pub_rec\n",
      "0    37601\n",
      "1     2056\n",
      "2       51\n",
      "3        7\n",
      "4        2\n",
      "Name: pub_rec, dtype: int64\n",
      "\n",
      "\n",
      "\n",
      "\n",
      "columns: revol_bal\n",
      "0        994\n",
      "298       14\n",
      "255       14\n",
      "1         12\n",
      "682       11\n",
      "        ... \n",
      "21424      1\n",
      "30747      1\n",
      "23862      1\n",
      "20197      1\n",
      "85607      1\n",
      "Name: revol_bal, Length: 21711, dtype: int64\n",
      "\n",
      "\n",
      "\n",
      "\n",
      "columns: total_acc\n",
      "16    1471\n",
      "15    1462\n",
      "17    1457\n",
      "14    1445\n",
      "20    1428\n",
      "      ... \n",
      "74       1\n",
      "77       1\n",
      "78       1\n",
      "87       1\n",
      "90       1\n",
      "Name: total_acc, Length: 82, dtype: int64\n",
      "\n",
      "\n",
      "\n",
      "\n",
      "columns: out_prncp\n",
      "0.00       38577\n",
      "1972.60        2\n",
      "827.13         2\n",
      "2277.11        2\n",
      "2963.24        2\n",
      "           ...  \n",
      "782.23         1\n",
      "2296.41        1\n",
      "1928.85        1\n",
      "1061.32        1\n",
      "79.24          1\n",
      "Name: out_prncp, Length: 1137, dtype: int64\n",
      "\n",
      "\n",
      "\n",
      "\n",
      "columns: out_prncp_inv\n",
      "0.00       38577\n",
      "1972.60        2\n",
      "1664.64        2\n",
      "827.13         2\n",
      "1863.21        1\n",
      "           ...  \n",
      "782.23         1\n",
      "2289.14        1\n",
      "1928.85        1\n",
      "1061.32        1\n",
      "79.24          1\n",
      "Name: out_prncp_inv, Length: 1138, dtype: int64\n",
      "\n",
      "\n",
      "\n",
      "\n",
      "columns: total_pymnt\n",
      "11196.569430    26\n",
      "0.000000        16\n",
      "11784.232230    16\n",
      "10956.775960    16\n",
      "5478.387981     15\n",
      "                ..\n",
      "17768.430010     1\n",
      "12794.806580     1\n",
      "6193.803706      1\n",
      "34797.769170     1\n",
      "9195.263334      1\n",
      "Name: total_pymnt, Length: 37850, dtype: int64\n",
      "\n",
      "\n",
      "\n",
      "\n",
      "columns: total_pymnt_inv\n",
      "0.00        165\n",
      "6514.52      16\n",
      "5478.39      14\n",
      "13148.14     14\n",
      "11196.57     12\n",
      "           ... \n",
      "17702.50      1\n",
      "19026.06      1\n",
      "7355.24       1\n",
      "387.55        1\n",
      "980.83        1\n",
      "Name: total_pymnt_inv, Length: 37518, dtype: int64\n",
      "\n",
      "\n",
      "\n",
      "\n",
      "columns: total_rec_prncp\n",
      "10000.00    2293\n",
      "12000.00    1805\n",
      "5000.00     1702\n",
      "6000.00     1637\n",
      "15000.00    1400\n",
      "            ... \n",
      "1097.81        1\n",
      "1410.30        1\n",
      "6968.65        1\n",
      "3477.49        1\n",
      "16077.42       1\n",
      "Name: total_rec_prncp, Length: 7976, dtype: int64\n",
      "\n",
      "\n",
      "\n",
      "\n",
      "columns: total_rec_int\n",
      "0.00       71\n",
      "1196.57    26\n",
      "514.52     19\n",
      "956.78     17\n",
      "1784.23    17\n",
      "           ..\n",
      "494.53      1\n",
      "1119.88     1\n",
      "62.31       1\n",
      "2656.10     1\n",
      "1695.26     1\n",
      "Name: total_rec_int, Length: 35148, dtype: int64\n",
      "\n",
      "\n",
      "\n",
      "\n",
      "columns: total_rec_late_fee\n",
      "0.000000     37671\n",
      "15.000000      255\n",
      "15.000000       58\n",
      "30.000000       55\n",
      "15.000000       47\n",
      "             ...  \n",
      "35.286832        1\n",
      "15.000000        1\n",
      "14.777500        1\n",
      "14.967774        1\n",
      "19.890000        1\n",
      "Name: total_rec_late_fee, Length: 1356, dtype: int64\n",
      "\n",
      "\n",
      "\n",
      "\n",
      "columns: recoveries\n",
      "0.00       35499\n",
      "11.29          4\n",
      "10.40          4\n",
      "10.66          3\n",
      "44.92          3\n",
      "           ...  \n",
      "764.69         1\n",
      "653.08         1\n",
      "1080.96        1\n",
      "878.19         1\n",
      "21.29          1\n",
      "Name: recoveries, Length: 4040, dtype: int64\n",
      "\n",
      "\n",
      "\n",
      "\n",
      "columns: collection_recovery_fee\n",
      "0.0000      35935\n",
      "2.0000         12\n",
      "1.2000         10\n",
      "3.7100          9\n",
      "1.8800          8\n",
      "            ...  \n",
      "3.7900          1\n",
      "773.4900        1\n",
      "272.8250        1\n",
      "1.7697          1\n",
      "0.2300          1\n",
      "Name: collection_recovery_fee, Length: 2616, dtype: int64\n",
      "\n",
      "\n",
      "\n",
      "\n",
      "columns: last_pymnt_amnt\n",
      "0.00       74\n",
      "276.06     21\n",
      "200.00     17\n",
      "50.00      16\n",
      "100.00     15\n",
      "           ..\n",
      "1763.87     1\n",
      "172.27      1\n",
      "889.67      1\n",
      "150.73      1\n",
      "256.59      1\n",
      "Name: last_pymnt_amnt, Length: 34930, dtype: int64\n",
      "\n",
      "\n",
      "\n",
      "\n",
      "columns: pub_rec_bankruptcies\n",
      "0.0    37339\n",
      "1.0     1674\n",
      "2.0        7\n",
      "Name: pub_rec_bankruptcies, dtype: int64\n",
      "\n",
      "\n",
      "\n",
      "\n"
     ]
    }
   ],
   "source": [
    "for i in numerical_columns.columns:\n",
    "    print(\"columns: {}\".format(i))\n",
    "    print(df[i].value_counts())\n",
    "    print(\"\\n\")\n",
    "    print(\"\\n\")"
   ]
  },
  {
   "cell_type": "markdown",
   "metadata": {},
   "source": [
    "Figuring out irrelevent columns"
   ]
  },
  {
   "cell_type": "markdown",
   "metadata": {},
   "source": [
    "These are the columns which don't help in finding loan defaulting.\n",
    "\n",
    "For object columns:\n",
    "- last_credit_pull_d: not required, as this is the date when LC checks the credit score for the member\n",
    "- emp_title: not required, as this state the employer of the loanee\n",
    "- url: not required, as this contain the LC loan url page\n",
    "- desc: not required, as this is provided by loanee for loan\n",
    "- title: not required, as this is provided by loanee for loan title\n",
    "- zip_code: not required as this dont required for figuring out loan defaulting\n",
    "- addr_state: not required, same as zip_code\n",
    "- last_pymnt_d: not required\n",
    "\n",
    "For numerical columns:\n",
    "- id and member_id: not required as not helping in loan defaulting\n",
    "- mths_since_last_delinq: not required as not many values are present\n",
    "- mths_since_last_record: not required same as mths_since_last_delinq\n",
    "- out_prncp and out_prncp_inv: not required as loanee still can pay \n",
    "- total_pymnt and total_pymnt_inv: not required as this can't help in determine loan defaulting\n",
    "- total_rec_prncp: not required, won't help in loan defaulting\n",
    "- total_rec_int: not required, won't help in loan defaulting\n",
    "- total_rec_late_fee: not required, won't help in loan defaulting\n",
    "- recoveries: not required, as this is charge which is going to be useful after all recovery\n",
    "- collection_recovery_fee: not required, won't help in loan defaulting\n",
    "- last_pymnt_amnt: not required, won't help in loan defaulting\n",
    "- pub_rec_bankruptcies: not required, more than 99% have same value"
   ]
  },
  {
   "cell_type": "code",
   "execution_count": 162,
   "metadata": {},
   "outputs": [],
   "source": [
    "object_irrelevant_columns = ['last_pymnt_d', 'last_credit_pull_d', 'emp_title', 'url', 'desc', 'title', 'zip_code', 'addr_state']\n",
    "numerical_irrelevant_columns = ['id', 'member_id', 'mths_since_last_delinq', 'mths_since_last_record', 'out_prncp', 'out_prncp_inv', 'total_pymnt', 'total_pymnt_inv', 'total_rec_prncp', 'total_rec_int', 'total_rec_late_fee', 'recoveries', 'collection_recovery_fee', 'last_pymnt_amnt', 'pub_rec_bankruptcies']"
   ]
  },
  {
   "cell_type": "code",
   "execution_count": 163,
   "metadata": {},
   "outputs": [],
   "source": [
    "irrelevant_columns = object_irrelevant_columns + numerical_irrelevant_columns"
   ]
  },
  {
   "cell_type": "code",
   "execution_count": 164,
   "metadata": {},
   "outputs": [],
   "source": [
    "# dropping irrevelant columns\n",
    "df.drop(columns=irrelevant_columns, inplace=True, axis=1)"
   ]
  },
  {
   "cell_type": "code",
   "execution_count": 165,
   "metadata": {},
   "outputs": [
    {
     "data": {
      "text/plain": [
       "Index(['loan_amnt', 'funded_amnt', 'funded_amnt_inv', 'term', 'int_rate',\n",
       "       'installment', 'grade', 'sub_grade', 'emp_length', 'home_ownership',\n",
       "       'annual_inc', 'verification_status', 'issue_d', 'loan_status',\n",
       "       'purpose', 'dti', 'delinq_2yrs', 'earliest_cr_line', 'inq_last_6mths',\n",
       "       'open_acc', 'pub_rec', 'revol_bal', 'revol_util', 'total_acc',\n",
       "       'next_pymnt_d'],\n",
       "      dtype='object')"
      ]
     },
     "execution_count": 165,
     "metadata": {},
     "output_type": "execute_result"
    }
   ],
   "source": [
    "# Remaining columns\n",
    "df.columns"
   ]
  },
  {
   "cell_type": "markdown",
   "metadata": {},
   "source": [
    "##### Fix Missing Values"
   ]
  },
  {
   "cell_type": "code",
   "execution_count": 166,
   "metadata": {},
   "outputs": [
    {
     "data": {
      "text/plain": [
       "loan_amnt               0.000000\n",
       "funded_amnt             0.000000\n",
       "funded_amnt_inv         0.000000\n",
       "term                    0.000000\n",
       "int_rate                0.000000\n",
       "installment             0.000000\n",
       "grade                   0.000000\n",
       "sub_grade               0.000000\n",
       "emp_length              2.706650\n",
       "home_ownership          0.000000\n",
       "annual_inc              0.000000\n",
       "verification_status     0.000000\n",
       "issue_d                 0.000000\n",
       "loan_status             0.000000\n",
       "purpose                 0.000000\n",
       "dti                     0.000000\n",
       "delinq_2yrs             0.000000\n",
       "earliest_cr_line        0.000000\n",
       "inq_last_6mths          0.000000\n",
       "open_acc                0.000000\n",
       "pub_rec                 0.000000\n",
       "revol_bal               0.000000\n",
       "revol_util              0.125891\n",
       "total_acc               0.000000\n",
       "next_pymnt_d           97.129693\n",
       "dtype: float64"
      ]
     },
     "execution_count": 166,
     "metadata": {},
     "output_type": "execute_result"
    }
   ],
   "source": [
    "# List number of missing values in each columns\n",
    "df.isna().sum()* 100 / len(df)"
   ]
  },
  {
   "cell_type": "markdown",
   "metadata": {},
   "source": [
    "next_pymnt_d can be removed as it contain more None values"
   ]
  },
  {
   "cell_type": "code",
   "execution_count": 167,
   "metadata": {},
   "outputs": [],
   "source": [
    "df.drop(columns=[\"next_pymnt_d\"], inplace=True, axis=1)"
   ]
  },
  {
   "cell_type": "markdown",
   "metadata": {},
   "source": [
    "emp_length contains 2.7% which can be removed"
   ]
  },
  {
   "cell_type": "code",
   "execution_count": 168,
   "metadata": {},
   "outputs": [],
   "source": [
    "df.dropna(subset=[\"emp_length\"], inplace=True, axis=0)"
   ]
  },
  {
   "cell_type": "markdown",
   "metadata": {},
   "source": [
    "revol_util contains .17% which can be removed"
   ]
  },
  {
   "cell_type": "code",
   "execution_count": 169,
   "metadata": {},
   "outputs": [],
   "source": [
    "df.dropna(subset=[\"revol_util\"], inplace=True, axis=0)"
   ]
  },
  {
   "cell_type": "markdown",
   "metadata": {},
   "source": [
    "##### Standardising Values"
   ]
  },
  {
   "cell_type": "markdown",
   "metadata": {},
   "source": [
    "int_rate is an object but it should be numerical value, so we are converting it from \"14%\" to 14.0"
   ]
  },
  {
   "cell_type": "code",
   "execution_count": 170,
   "metadata": {},
   "outputs": [],
   "source": [
    "df[\"int_rate\"] = df.int_rate.apply(lambda x: float(x.replace(\"%\", \"\")))"
   ]
  },
  {
   "cell_type": "markdown",
   "metadata": {},
   "source": [
    "same as int_rate, we are updating revol_util"
   ]
  },
  {
   "cell_type": "code",
   "execution_count": 171,
   "metadata": {},
   "outputs": [],
   "source": [
    "df[\"revol_util\"] = df.revol_util.apply(lambda x: float(x.replace(\"%\", \"\")))"
   ]
  },
  {
   "cell_type": "markdown",
   "metadata": {},
   "source": [
    "converting term from \"36 months\" to numerical 36"
   ]
  },
  {
   "cell_type": "code",
   "execution_count": 172,
   "metadata": {},
   "outputs": [],
   "source": [
    "df[\"term\"] = df.term.apply(lambda x: int(x.replace(\"months\", \"\")))"
   ]
  },
  {
   "cell_type": "markdown",
   "metadata": {},
   "source": [
    "emp_length should be a numerical value, so we are updating \"< 1 year\" as 0 and \"10+ years\" as 10"
   ]
  },
  {
   "cell_type": "code",
   "execution_count": 173,
   "metadata": {},
   "outputs": [],
   "source": [
    "def remove_years(s):\n",
    "    return s.replace(\"years\", \"\").replace(\"year\", \"\")"
   ]
  },
  {
   "cell_type": "code",
   "execution_count": 174,
   "metadata": {},
   "outputs": [],
   "source": [
    "df[\"emp_length\"] = df.emp_length.apply(lambda x: 0 if \"<\" in remove_years(x) else 10 if \"+\" in remove_years(x) else int(remove_years(x)))"
   ]
  },
  {
   "cell_type": "markdown",
   "metadata": {},
   "source": [
    "Standardise date values"
   ]
  },
  {
   "cell_type": "code",
   "execution_count": 175,
   "metadata": {},
   "outputs": [],
   "source": [
    "date_columns = [i for i in df.columns if i[-2:] == \"_d\"]"
   ]
  },
  {
   "cell_type": "markdown",
   "metadata": {},
   "source": [
    "Fetch month and year from date"
   ]
  },
  {
   "cell_type": "code",
   "execution_count": 179,
   "metadata": {},
   "outputs": [],
   "source": [
    "for i in date_columns:\n",
    "    df[i] = df[i].apply(lambda x: datetime.strptime('Mar-08', '%b-%y'))\n",
    "    df[\"{}_month\".format(i)] = df[i].apply(lambda x: x.month)\n",
    "    df[\"{}_year\".format(i)] = df[i].apply(lambda x: x.year)"
   ]
  },
  {
   "cell_type": "markdown",
   "metadata": {},
   "source": [
    "Remove Outlier"
   ]
  },
  {
   "cell_type": "code",
   "execution_count": 196,
   "metadata": {},
   "outputs": [],
   "source": [
    "numerical_columns = df.select_dtypes(exclude=['object', 'datetime64[ns]'])"
   ]
  },
  {
   "cell_type": "code",
   "execution_count": 197,
   "metadata": {},
   "outputs": [
    {
     "name": "stdout",
     "output_type": "stream",
     "text": [
      "<class 'pandas.core.frame.DataFrame'>\n",
      "Int64Index: 38595 entries, 0 to 39716\n",
      "Data columns (total 18 columns):\n",
      " #   Column           Non-Null Count  Dtype  \n",
      "---  ------           --------------  -----  \n",
      " 0   loan_amnt        38595 non-null  int64  \n",
      " 1   funded_amnt      38595 non-null  int64  \n",
      " 2   funded_amnt_inv  38595 non-null  float64\n",
      " 3   term             38595 non-null  int64  \n",
      " 4   int_rate         38595 non-null  float64\n",
      " 5   installment      38595 non-null  float64\n",
      " 6   emp_length       38595 non-null  int64  \n",
      " 7   annual_inc       38595 non-null  float64\n",
      " 8   dti              38595 non-null  float64\n",
      " 9   delinq_2yrs      38595 non-null  int64  \n",
      " 10  inq_last_6mths   38595 non-null  int64  \n",
      " 11  open_acc         38595 non-null  int64  \n",
      " 12  pub_rec          38595 non-null  int64  \n",
      " 13  revol_bal        38595 non-null  int64  \n",
      " 14  revol_util       38595 non-null  float64\n",
      " 15  total_acc        38595 non-null  int64  \n",
      " 16  issue_d_month    38595 non-null  int64  \n",
      " 17  issue_d_year     38595 non-null  int64  \n",
      "dtypes: float64(6), int64(12)\n",
      "memory usage: 5.6 MB\n"
     ]
    }
   ],
   "source": [
    "numerical_columns.info()"
   ]
  },
  {
   "cell_type": "code",
   "execution_count": 199,
   "metadata": {},
   "outputs": [
    {
     "name": "stdout",
     "output_type": "stream",
     "text": [
      "columns: loan_amnt\n"
     ]
    },
    {
     "data": {
      "image/png": "[encoded data removed]",
      "text/plain": [
       "<Figure size 432x288 with 1 Axes>"
      ]
     },
     "metadata": {
      "needs_background": "light"
     },
     "output_type": "display_data"
    },
    {
     "name": "stdout",
     "output_type": "stream",
     "text": [
      "\n",
      "\n",
      "\n",
      "\n",
      "columns: funded_amnt\n"
     ]
    },
    {
     "data": {
      "image/png": "[encoded data removed]",
      "text/plain": [
       "<Figure size 432x288 with 1 Axes>"
      ]
     },
     "metadata": {
      "needs_background": "light"
     },
     "output_type": "display_data"
    },
    {
     "name": "stdout",
     "output_type": "stream",
     "text": [
      "\n",
      "\n",
      "\n",
      "\n",
      "columns: funded_amnt_inv\n"
     ]
    },
    {
     "data": {
      "image/png": "[encoded data removed]",
      "text/plain": [
       "<Figure size 432x288 with 1 Axes>"
      ]
     },
     "metadata": {
      "needs_background": "light"
     },
     "output_type": "display_data"
    },
    {
     "name": "stdout",
     "output_type": "stream",
     "text": [
      "\n",
      "\n",
      "\n",
      "\n",
      "columns: term\n"
     ]
    },
    {
     "data": {
      "image/png": "[encoded data removed]",
      "text/plain": [
       "<Figure size 432x288 with 1 Axes>"
      ]
     },
     "metadata": {
      "needs_background": "light"
     },
     "output_type": "display_data"
    },
    {
     "name": "stdout",
     "output_type": "stream",
     "text": [
      "\n",
      "\n",
      "\n",
      "\n",
      "columns: int_rate\n"
     ]
    },
    {
     "data": {
      "image/png": "[encoded data removed]",
      "text/plain": [
       "<Figure size 432x288 with 1 Axes>"
      ]
     },
     "metadata": {
      "needs_background": "light"
     },
     "output_type": "display_data"
    },
    {
     "name": "stdout",
     "output_type": "stream",
     "text": [
      "\n",
      "\n",
      "\n",
      "\n",
      "columns: installment\n"
     ]
    },
    {
     "data": {
      "image/png": "[encoded data removed]",
      "text/plain": [
       "<Figure size 432x288 with 1 Axes>"
      ]
     },
     "metadata": {
      "needs_background": "light"
     },
     "output_type": "display_data"
    },
    {
     "name": "stdout",
     "output_type": "stream",
     "text": [
      "\n",
      "\n",
      "\n",
      "\n",
      "columns: emp_length\n"
     ]
    },
    {
     "data": {
      "image/png": "[encoded data removed]",
      "text/plain": [
       "<Figure size 432x288 with 1 Axes>"
      ]
     },
     "metadata": {
      "needs_background": "light"
     },
     "output_type": "display_data"
    },
    {
     "name": "stdout",
     "output_type": "stream",
     "text": [
      "\n",
      "\n",
      "\n",
      "\n",
      "columns: annual_inc\n"
     ]
    },
    {
     "data": {
      "image/png": "[encoded data removed]",
      "text/plain": [
       "<Figure size 432x288 with 1 Axes>"
      ]
     },
     "metadata": {
      "needs_background": "light"
     },
     "output_type": "display_data"
    },
    {
     "name": "stdout",
     "output_type": "stream",
     "text": [
      "\n",
      "\n",
      "\n",
      "\n",
      "columns: dti\n"
     ]
    },
    {
     "data": {
      "image/png": "[encoded data removed]",
      "text/plain": [
       "<Figure size 432x288 with 1 Axes>"
      ]
     },
     "metadata": {
      "needs_background": "light"
     },
     "output_type": "display_data"
    },
    {
     "name": "stdout",
     "output_type": "stream",
     "text": [
      "\n",
      "\n",
      "\n",
      "\n",
      "columns: delinq_2yrs\n"
     ]
    },
    {
     "data": {
      "image/png": "[encoded data removed]",
      "text/plain": [
       "<Figure size 432x288 with 1 Axes>"
      ]
     },
     "metadata": {
      "needs_background": "light"
     },
     "output_type": "display_data"
    },
    {
     "name": "stdout",
     "output_type": "stream",
     "text": [
      "\n",
      "\n",
      "\n",
      "\n",
      "columns: inq_last_6mths\n"
     ]
    },
    {
     "data": {
      "image/png": "[encoded data removed]",
      "text/plain": [
       "<Figure size 432x288 with 1 Axes>"
      ]
     },
     "metadata": {
      "needs_background": "light"
     },
     "output_type": "display_data"
    },
    {
     "name": "stdout",
     "output_type": "stream",
     "text": [
      "\n",
      "\n",
      "\n",
      "\n",
      "columns: open_acc\n"
     ]
    },
    {
     "data": {
      "image/png": "[encoded data removed]",
      "text/plain": [
       "<Figure size 432x288 with 1 Axes>"
      ]
     },
     "metadata": {
      "needs_background": "light"
     },
     "output_type": "display_data"
    },
    {
     "name": "stdout",
     "output_type": "stream",
     "text": [
      "\n",
      "\n",
      "\n",
      "\n",
      "columns: pub_rec\n"
     ]
    },
    {
     "data": {
      "image/png": "[encoded data removed]",
      "text/plain": [
       "<Figure size 432x288 with 1 Axes>"
      ]
     },
     "metadata": {
      "needs_background": "light"
     },
     "output_type": "display_data"
    },
    {
     "name": "stdout",
     "output_type": "stream",
     "text": [
      "\n",
      "\n",
      "\n",
      "\n",
      "columns: revol_bal\n"
     ]
    },
    {
     "data": {
      "image/png": "[encoded data removed]",
      "text/plain": [
       "<Figure size 432x288 with 1 Axes>"
      ]
     },
     "metadata": {
      "needs_background": "light"
     },
     "output_type": "display_data"
    },
    {
     "name": "stdout",
     "output_type": "stream",
     "text": [
      "\n",
      "\n",
      "\n",
      "\n",
      "columns: revol_util\n"
     ]
    },
    {
     "data": {
      "image/png": "[encoded data removed]",
      "text/plain": [
       "<Figure size 432x288 with 1 Axes>"
      ]
     },
     "metadata": {
      "needs_background": "light"
     },
     "output_type": "display_data"
    },
    {
     "name": "stdout",
     "output_type": "stream",
     "text": [
      "\n",
      "\n",
      "\n",
      "\n",
      "columns: total_acc\n"
     ]
    },
    {
     "data": {
      "image/png": "[encoded data removed]",
      "text/plain": [
       "<Figure size 432x288 with 1 Axes>"
      ]
     },
     "metadata": {
      "needs_background": "light"
     },
     "output_type": "display_data"
    },
    {
     "name": "stdout",
     "output_type": "stream",
     "text": [
      "\n",
      "\n",
      "\n",
      "\n",
      "columns: issue_d_month\n"
     ]
    },
    {
     "data": {
      "image/png": "[encoded data removed]",
      "text/plain": [
       "<Figure size 432x288 with 1 Axes>"
      ]
     },
     "metadata": {
      "needs_background": "light"
     },
     "output_type": "display_data"
    },
    {
     "name": "stdout",
     "output_type": "stream",
     "text": [
      "\n",
      "\n",
      "\n",
      "\n",
      "columns: issue_d_year\n"
     ]
    },
    {
     "data": {
      "image/png": "[encoded data removed]",
      "text/plain": [
       "<Figure size 432x288 with 1 Axes>"
      ]
     },
     "metadata": {
      "needs_background": "light"
     },
     "output_type": "display_data"
    },
    {
     "name": "stdout",
     "output_type": "stream",
     "text": [
      "\n",
      "\n",
      "\n",
      "\n"
     ]
    }
   ],
   "source": [
    "for i in numerical_columns.columns:\n",
    "    print(\"columns: {}\".format(i))\n",
    "    sns.boxplot(x=i, data=df)\n",
    "    plt.show()\n",
    "    print(\"\\n\")\n",
    "    print(\"\\n\")"
   ]
  },
  {
   "cell_type": "markdown",
   "metadata": {},
   "source": [
    "We can see that there are oultiers in annual_inc, open_acc, total_acc and revol_bal"
   ]
  }
 ],
 "metadata": {
  "interpreter": {
   "hash": "fea6becea45a10ef14dcefed550f98bd57c1d86a7e7df96e9ec8e3be772e6e0d"
  },
  "kernelspec": {
   "display_name": "Python 3.8.10 ('venv': venv)",
   "language": "python",
   "name": "python3"
  },
  "language_info": {
   "codemirror_mode": {
    "name": "ipython",
    "version": 3
   },
   "file_extension": ".py",
   "mimetype": "text/x-python",
   "name": "python",
   "nbconvert_exporter": "python",
   "pygments_lexer": "ipython3",
   "version": "3.8.10"
  },
  "orig_nbformat": 4
 },
 "nbformat": 4,
 "nbformat_minor": 2
}
